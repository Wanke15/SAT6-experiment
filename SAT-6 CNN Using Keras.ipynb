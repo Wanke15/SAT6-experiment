{
  "cells": [
    {
      "metadata": {
        "_uuid": "8f2839f25d086af736a60e9eeb907d3b93b6e0e5",
        "_cell_guid": "b1076dfc-b9ad-4769-8c92-a6c4dae69d19",
        "trusted": true
      },
      "cell_type": "code",
      "source": "# This Python 3 environment comes with many helpful analytics libraries installed\n# It is defined by the kaggle/python docker image: https://github.com/kaggle/docker-python\n# For example, here's several helpful packages to load in \n\nimport numpy as np # linear algebra\nimport pandas as pd # data processing, CSV file I/O (e.g. pd.read_csv)\n\n# Input data files are available in the \"../input/\" directory.\n# For example, running this (by clicking run or pressing Shift+Enter) will list the files in the input directory\n\nimport os\nprint(os.listdir(\"../input\"))\n\n# Any results you write to the current directory are saved as output.\n\nfrom keras.applications.vgg16 import VGG16, preprocess_input\nfrom keras.layers import Dense, Conv2D, MaxPooling2D, Flatten, GlobalAveragePooling2D, Input\nfrom keras.models import Model\nfrom keras.optimizers import SGD, Adam\n\nimport cv2\nimport matplotlib.pyplot as plt\n%matplotlib inline",
      "execution_count": null,
      "outputs": []
    },
    {
      "metadata": {
        "trusted": true,
        "_uuid": "ceba867015f46158ce25b24804da1013807e08f3"
      },
      "cell_type": "code",
      "source": "!nvcc -V",
      "execution_count": null,
      "outputs": []
    },
    {
      "metadata": {
        "trusted": true,
        "_uuid": "3418eb1c4fa604b80ceaeae6dd69b7f217cf4115"
      },
      "cell_type": "code",
      "source": "X_train = pd.read_csv('../input/X_train_sat6.csv', \n                      header=None, \n                      nrows=20000).values.astype('int16').reshape(-1, 28, 28, 4)[:, :, :, :3]\ny_train = pd.read_csv('../input/y_train_sat6.csv', header=None, nrows=20000).values.astype('int16')\n\nX_test = pd.read_csv('../input/X_test_sat6.csv', \n                     header=None, \n                    nrows=5000).values.astype('int16').reshape(-1, 28, 28, 4)[:, :, :, :3]\ny_test = pd.read_csv('../input/y_test_sat6.csv', header=None, nrows=5000).values.astype('int16')\n",
      "execution_count": null,
      "outputs": []
    },
    {
      "metadata": {
        "trusted": true,
        "_uuid": "d8b4dba9e48e73c05a349cfe9bb89a9c96c6fb22"
      },
      "cell_type": "code",
      "source": "#plt.imshow(cv2.resize(X_train[0].astype('float32'), (224, 224), interpolation=cv2.INTER_CUBIC).astype('int16'))",
      "execution_count": null,
      "outputs": []
    },
    {
      "metadata": {
        "trusted": true,
        "_uuid": "69ae3813fbae382873921c184d7cddecde7f2a08"
      },
      "cell_type": "code",
      "source": "X_train[0].shape, X_train[0].dtype",
      "execution_count": null,
      "outputs": []
    },
    {
      "metadata": {
        "trusted": true,
        "_uuid": "aea564fbb2a194a0fa32f22435a1d4e74e44d37c"
      },
      "cell_type": "code",
      "source": "new_shape = 112",
      "execution_count": null,
      "outputs": []
    },
    {
      "metadata": {
        "trusted": true,
        "_uuid": "9b70ccc85d5407625a7728dd9e9dec74c70cf6ca"
      },
      "cell_type": "code",
      "source": "X_train_prep = np.array([cv2.resize(i.astype('float32'), (new_shape, new_shape), interpolation=cv2.INTER_CUBIC).astype('int16') for i in X_train])",
      "execution_count": null,
      "outputs": []
    },
    {
      "metadata": {
        "trusted": true,
        "_uuid": "19d7d35d07c1a2d1e3c1afd19063fa6df09f9a0e"
      },
      "cell_type": "code",
      "source": "#X_train_vgg = X_train_prep/255.\n#X_train_vgg = X_train_vgg.astype('float32')\nX_train_vgg = preprocess_input(X_train_prep).astype('float32')",
      "execution_count": null,
      "outputs": []
    },
    {
      "metadata": {
        "trusted": true,
        "_uuid": "e0947ae0e79d28c76d51c9635c2230c9839a67c1"
      },
      "cell_type": "code",
      "source": "X_train_vgg.shape",
      "execution_count": null,
      "outputs": []
    },
    {
      "metadata": {
        "trusted": true,
        "_uuid": "c1a2552d5d17d64fe633c0ab92dd788e3ad484f6"
      },
      "cell_type": "code",
      "source": "vgg = VGG16(include_top=False, input_shape=(new_shape, new_shape, 3))\nnew_gap = GlobalAveragePooling2D(name='new_flatten')(vgg.output)\ndense = Dense(256, name='new_fc1')(new_gap)\ndense = Dense(128, name='new_fc2')(dense)\ndense6 = Dense(6, name='output')(dense)\n\nmodel = Model(inputs=[vgg.input], outputs=[dense6])\n\nfor layer in vgg.layers:\n    layer.trainable = False\n    \nbase_lr = 0.01\nmomentum = 0.9\ndecay_weight = 0.0005\n\noptimizer = Adam(lr=base_lr, \n                decay=decay_weight\n                )\n\nmodel.compile(optimizer=optimizer, \n              loss='categorical_crossentropy', \n              metrics=['acc'])\n\n#model.summary()",
      "execution_count": null,
      "outputs": []
    },
    {
      "metadata": {
        "trusted": true,
        "_uuid": "e0c90de6b14b9a0ce44386178f1b86b4bd9049b9"
      },
      "cell_type": "code",
      "source": "model.fit(X_train_vgg, y_train, \n          epochs=500, \n          validation_split=0.1,\n          batch_size = 32, \n          shuffle=True, \n          verbose=1)",
      "execution_count": null,
      "outputs": []
    },
    {
      "metadata": {
        "trusted": true,
        "_uuid": "e23f1ac8e2059b737d15fb601ffca92d78a1aaff"
      },
      "cell_type": "code",
      "source": "",
      "execution_count": null,
      "outputs": []
    }
  ],
  "metadata": {
    "kernelspec": {
      "display_name": "Python 3",
      "language": "python",
      "name": "python3"
    },
    "language_info": {
      "name": "python",
      "version": "3.6.6",
      "mimetype": "text/x-python",
      "codemirror_mode": {
        "name": "ipython",
        "version": 3
      },
      "pygments_lexer": "ipython3",
      "nbconvert_exporter": "python",
      "file_extension": ".py"
    }
  },
  "nbformat": 4,
  "nbformat_minor": 1
}